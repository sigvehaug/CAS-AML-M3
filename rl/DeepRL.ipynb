{
  "cells": [
    {
      "cell_type": "markdown",
      "metadata": {
        "id": "cRAF9H1wvW9-"
      },
      "source": [
        "# **Deep Reinforcement Learning**\n",
        "\n",
        "Objectives: Train Deep Reinforcement Learning methods on the [CArt Pole](https://www.gymlibrary.dev/environments/classic_control/cart_pole/) and [Bipedal Walker](https://www.gymlibrary.dev/environments/box2d/bipedal_walker/) OpenAI Gym environments\n",
        "\n",
        "1.   Improve the DQN agent already implemented by modifying the DQN, or by searching for better parameters\n",
        "2.   Apply Policy-based/Actor Critic agent to the Bipedal Walker environment\n",
        "\n",
        "\n",
        "\n",
        "\n",
        "\n"
      ]
    },
    {
      "cell_type": "markdown",
      "metadata": {
        "id": "9J35LkLsOQzP"
      },
      "source": [
        "To use GPU, set `Edit / Notebook settings / Hardware accelerator` to **GPU**."
      ]
    },
    {
      "cell_type": "markdown",
      "metadata": {
        "id": "N4T0wPS2xjDf"
      },
      "source": [
        "Install needed Python packages"
      ]
    },
    {
      "cell_type": "code",
      "execution_count": null,
      "metadata": {
        "colab": {
          "base_uri": "https://localhost:8080/"
        },
        "id": "y6SnH6p5xpdY",
        "outputId": "6c0903fb-6297-4aa1-8761-5d6ad3be920d"
      },
      "outputs": [
        {
          "output_type": "stream",
          "name": "stdout",
          "text": [
            "Looking in indexes: https://pypi.org/simple, https://us-python.pkg.dev/colab-wheels/public/simple/\n",
            "Requirement already satisfied: pygame in /usr/local/lib/python3.7/dist-packages (2.1.0)\n",
            "Requirement already satisfied: gym[box2D] in /usr/local/lib/python3.7/dist-packages (0.25.2)\n",
            "Requirement already satisfied: numpy in /usr/local/lib/python3.7/dist-packages (1.21.6)\n",
            "Requirement already satisfied: cloudpickle>=1.2.0 in /usr/local/lib/python3.7/dist-packages (from gym[box2D]) (1.5.0)\n",
            "Requirement already satisfied: gym-notices>=0.0.4 in /usr/local/lib/python3.7/dist-packages (from gym[box2D]) (0.0.8)\n",
            "Requirement already satisfied: importlib-metadata>=4.8.0 in /usr/local/lib/python3.7/dist-packages (from gym[box2D]) (5.0.0)\n",
            "Requirement already satisfied: swig==4.* in /usr/local/lib/python3.7/dist-packages (from gym[box2D]) (4.0.2)\n",
            "Requirement already satisfied: box2d-py==2.3.5 in /usr/local/lib/python3.7/dist-packages (from gym[box2D]) (2.3.5)\n",
            "Requirement already satisfied: typing-extensions>=3.6.4 in /usr/local/lib/python3.7/dist-packages (from importlib-metadata>=4.8.0->gym[box2D]) (4.1.1)\n",
            "Requirement already satisfied: zipp>=0.5 in /usr/local/lib/python3.7/dist-packages (from importlib-metadata>=4.8.0->gym[box2D]) (3.8.1)\n"
          ]
        }
      ],
      "source": [
        "!pip install pygame gym[box2D] numpy"
      ]
    },
    {
      "cell_type": "markdown",
      "metadata": {
        "id": "RYKnoiSGHTuj"
      },
      "source": [
        "Import basic Python packages"
      ]
    },
    {
      "cell_type": "code",
      "execution_count": null,
      "metadata": {
        "id": "wAiFrJhyHTDE"
      },
      "outputs": [],
      "source": [
        "import gym\n",
        "from gym import spaces\n",
        "import pygame\n",
        "import numpy as np"
      ]
    },
    {
      "cell_type": "markdown",
      "metadata": {
        "id": "38s_n3bxQjpO"
      },
      "source": [
        "Mount Google Drive for saving results (not needed if running the notebook locally)"
      ]
    },
    {
      "cell_type": "code",
      "execution_count": null,
      "metadata": {
        "colab": {
          "base_uri": "https://localhost:8080/"
        },
        "id": "IrEvXkN-h9KV",
        "outputId": "a888fecc-d923-4227-dc3a-17480cdba1db"
      },
      "outputs": [
        {
          "output_type": "stream",
          "name": "stdout",
          "text": [
            "Drive already mounted at /content/drive; to attempt to forcibly remount, call drive.mount(\"/content/drive\", force_remount=True).\n"
          ]
        }
      ],
      "source": [
        "# Mount Google Drive\n",
        "from google.colab import drive # import drive from google colab\n",
        "\n",
        "ROOT = \"/content/drive\"         # default location for the drive\n",
        "\n",
        "drive.mount(ROOT)              # we mount the google drive at /content/drive"
      ]
    },
    {
      "cell_type": "markdown",
      "metadata": {
        "id": "Z1brvbQhdeiC"
      },
      "source": [
        "## Video Utilities"
      ]
    },
    {
      "cell_type": "code",
      "execution_count": null,
      "metadata": {
        "id": "4B9aEomAT45U"
      },
      "outputs": [],
      "source": [
        "from pathlib import Path\n",
        "import base64\n",
        "from IPython import display as ipythondisplay\n",
        "from gym.wrappers import RecordVideo"
      ]
    },
    {
      "cell_type": "code",
      "execution_count": null,
      "metadata": {
        "id": "ScgX7DejxcPq"
      },
      "outputs": [],
      "source": [
        "# Set up fake display; otherwise rendering will fail on Google Colab\n",
        "import os\n",
        "os.system(\"Xvfb :1 -screen 0 1024x768x24 &\")\n",
        "os.environ['DISPLAY'] = ':1'"
      ]
    },
    {
      "cell_type": "code",
      "execution_count": null,
      "metadata": {
        "id": "3nv7O8oeQdCQ"
      },
      "outputs": [],
      "source": [
        "def show_videos(video_path='', prefix=''):\n",
        "  html = []\n",
        "  for mp4 in Path(video_path).glob(\"{}*.mp4\".format(prefix)):\n",
        "      video_b64 = base64.b64encode(mp4.read_bytes())\n",
        "      html.append('''<video alt=\"{}\" autoplay \n",
        "                    loop controls style=\"height: 400px;\">\n",
        "                    <source src=\"data:video/mp4;base64,{}\" type=\"video/mp4\" />\n",
        "                </video>'''.format(mp4, video_b64.decode('ascii')))\n",
        "  ipythondisplay.display(ipythondisplay.HTML(data=\"<br>\".join(html)))"
      ]
    },
    {
      "cell_type": "code",
      "execution_count": null,
      "metadata": {
        "id": "zJvX9szqTzNm"
      },
      "outputs": [],
      "source": [
        "def record_video_randpol(env, video_length=0, step_trigger=None, episode_trigger=None,  prefix='', video_folder='videos/'):\n",
        "\n",
        "  video_env = RecordVideo(env, \n",
        "                         video_folder=video_folder,\n",
        "                         episode_trigger=episode_trigger,\n",
        "                         step_trigger=step_trigger,\n",
        "                         video_length=video_length,\n",
        "                         name_prefix=prefix,\n",
        "                         new_step_api=True\n",
        "                         )\n",
        "  \n",
        "  observation = video_env.reset()\n",
        "\n",
        "  step = 0\n",
        "  ep = 0\n",
        "\n",
        "  while True:\n",
        "\n",
        "    if _iterate_condition(step, ep, video_length=video_length, step_trigger=step_trigger, episode_trigger=episode_trigger):\n",
        "\n",
        "      observation, reward, terminated, _, info = video_env.step(env.action_space.sample())\n",
        "      step += 1\n",
        "\n",
        "      if terminated:\n",
        "        observation = video_env.reset()\n",
        "        ep += 1\n",
        "        step = 0\n",
        "    \n",
        "    else:\n",
        "      break\n",
        "      \n",
        "  video_env.close()\n",
        "\n",
        "# Utility function for checking stopping condition\n",
        "def _iterate_condition(step, ep, video_length=0, step_trigger=None, episode_trigger=None):\n",
        "\n",
        "  if video_length is not 0:\n",
        "    go = True if step < video_length else False\n",
        "    return go\n",
        "\n",
        "  if step_trigger is not None:\n",
        "    go = step_trigger(step)\n",
        "    return go\n",
        "\n",
        "  if episode_trigger is not None:\n",
        "    go = episode_trigger(ep)\n",
        "    return go"
      ]
    },
    {
      "cell_type": "code",
      "execution_count": null,
      "metadata": {
        "id": "k0cdLPuMaOV3"
      },
      "outputs": [],
      "source": [
        "# Set up fake display; otherwise rendering will fail on Google Colab\n",
        "import os\n",
        "os.system(\"Xvfb :1 -screen 0 1024x768x24 &\")\n",
        "os.environ['DISPLAY'] = ':1'"
      ]
    },
    {
      "cell_type": "code",
      "execution_count": null,
      "metadata": {
        "id": "_ckrXed3aOV4"
      },
      "outputs": [],
      "source": [
        "def show_videos(video_path='', prefix=''):\n",
        "  html = []\n",
        "  for mp4 in Path(video_path).glob(\"{}*.mp4\".format(prefix)):\n",
        "      video_b64 = base64.b64encode(mp4.read_bytes())\n",
        "      html.append('''<video alt=\"{}\" autoplay \n",
        "                    loop controls style=\"height: 400px;\">\n",
        "                    <source src=\"data:video/mp4;base64,{}\" type=\"video/mp4\" />\n",
        "                </video>'''.format(mp4, video_b64.decode('ascii')))\n",
        "  ipythondisplay.display(ipythondisplay.HTML(data=\"<br>\".join(html)))"
      ]
    },
    {
      "cell_type": "markdown",
      "metadata": {
        "id": "Kirx0mcGlE24"
      },
      "source": [
        "# **1) Improve DQN Agent on `CartPole-v0`**"
      ]
    },
    {
      "cell_type": "markdown",
      "metadata": {
        "id": "739UDEiudoGu"
      },
      "source": [
        "## Inspect `CartPole-v0` environment"
      ]
    },
    {
      "cell_type": "markdown",
      "metadata": {
        "id": "6EU4Lkhb1P8e"
      },
      "source": [
        "Initialize environment with discrete action space (necessary for DQN)"
      ]
    },
    {
      "cell_type": "code",
      "execution_count": null,
      "metadata": {
        "id": "PhOFHEAxaOV4"
      },
      "outputs": [],
      "source": [
        "env = gym.make(\n",
        "    \"CartPole-v0\",\n",
        "    new_step_api=True\n",
        ")"
      ]
    },
    {
      "cell_type": "markdown",
      "metadata": {
        "id": "prFN0U5P1JFY"
      },
      "source": [
        "Record and show video"
      ]
    },
    {
      "cell_type": "code",
      "execution_count": null,
      "metadata": {
        "id": "Sj9azwZTLArf"
      },
      "outputs": [],
      "source": [
        "import sys\n",
        "import os\n",
        "\n",
        "is_colab = 'google.colab' in sys.modules\n",
        "root_dir ='drive/MyDrive/CASAdvancedML' if is_colab else '.'"
      ]
    },
    {
      "cell_type": "code",
      "execution_count": null,
      "metadata": {
        "colab": {
          "base_uri": "https://localhost:8080/",
          "height": 615
        },
        "id": "PltIq6dqcfpc",
        "outputId": "1e20f82b-e384-4712-c44a-0bfa0e7eac01"
      },
      "outputs": [
        {
          "output_type": "stream",
          "name": "stderr",
          "text": [
            "/usr/local/lib/python3.7/dist-packages/gym/wrappers/record_video.py:79: UserWarning: \u001b[33mWARN: Overwriting existing videos at /content/drive/MyDrive/CASAdvancedML/Videos folder (try specifying a different `video_folder` for the `RecordVideo` wrapper if this is not desired)\u001b[0m\n",
            "  f\"Overwriting existing videos at {self.video_folder} folder \"\n",
            "/usr/local/lib/python3.7/dist-packages/gym/wrappers/monitoring/video_recorder.py:79: DeprecationWarning: \u001b[33mWARN: Recording ability for environment CartPole-v0 initialized with `render_mode=None` is marked as deprecated and will be removed in the future.\u001b[0m\n",
            "  f\"Recording ability for environment {env.spec.id} initialized with `render_mode=None` is marked \"\n",
            "/usr/local/lib/python3.7/dist-packages/gym/core.py:44: DeprecationWarning: \u001b[33mWARN: The argument mode in render method is deprecated; use render_mode during environment initialization instead.\n",
            "See here for more information: https://www.gymlibrary.ml/content/api/\u001b[0m\n",
            "  \"The argument mode in render method is deprecated; \"\n",
            "/usr/local/lib/python3.7/dist-packages/gym/core.py:44: DeprecationWarning: \u001b[33mWARN: The argument mode in render method is deprecated; use render_mode during environment initialization instead.\n",
            "See here for more information: https://www.gymlibrary.ml/content/api/\u001b[0m\n",
            "  \"The argument mode in render method is deprecated; \"\n"
          ]
        },
        {
          "output_type": "display_data",
          "data": {
            "text/plain": [
              "<IPython.core.display.HTML object>"
            ],
            "text/html": [
              "<video alt=\"drive/MyDrive/CASAdvancedML/Videos/lunland_random-episode-0.mp4\" autoplay \n",
              "                    loop controls style=\"height: 400px;\">\n",
              "                    <source src=\"data:video/mp4;base64,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\" type=\"video/mp4\" />\n",
              "                </video>"
            ]
          },
          "metadata": {}
        }
      ],
      "source": [
        "video_folder = os.path.join(root_dir, 'Videos')\n",
        "os.makedirs(video_folder, exist_ok =True)\n",
        "\n",
        "prefix = 'cart_random'\n",
        "\n",
        "record_video_randpol(env,\n",
        "                     video_length=0,\n",
        "                     episode_trigger=lambda ep: ep == 0,\n",
        "                     step_trigger=None,\n",
        "                     prefix=prefix,\n",
        "                     video_folder=video_folder)\n",
        "\n",
        "show_videos(video_folder, prefix=prefix)"
      ]
    },
    {
      "cell_type": "code",
      "execution_count": null,
      "metadata": {
        "colab": {
          "base_uri": "https://localhost:8080/"
        },
        "id": "z0iGhApXcycX",
        "outputId": "eccb6335-49ec-41ed-c64b-e154a88a13fc"
      },
      "outputs": [
        {
          "output_type": "stream",
          "name": "stdout",
          "text": [
            "The action space of the environment is of dimension: 2\n",
            "The observation space of the environment is of dimension (4,)\n"
          ]
        }
      ],
      "source": [
        "print('The action space of the environment is of dimension: {}'.format(env.action_space.n))\n",
        "print('The observation space of the environment is of dimension {}'.format(env.observation_space.sample().shape))"
      ]
    },
    {
      "cell_type": "markdown",
      "metadata": {
        "id": "vEi4LjFwwJXs"
      },
      "source": [
        "## Deep Q-Learning Agent"
      ]
    },
    {
      "cell_type": "markdown",
      "metadata": {
        "id": "FO9nq53sxpvg"
      },
      "source": [
        "**Replay Memory**: The agent needs a memory buffer to sample experience from"
      ]
    },
    {
      "cell_type": "code",
      "execution_count": null,
      "metadata": {
        "id": "OJN1J52YwN4a"
      },
      "outputs": [],
      "source": [
        "class ReplayBuffer:\n",
        "    \"\"\"A simple numpy replay buffer.\"\"\"\n",
        "\n",
        "    def __init__(self, obs_dim: int, size: int, batch_size: int = 32):\n",
        "\n",
        "        self.obs_buf = np.zeros([size, obs_dim], dtype=np.float32)\n",
        "        self.next_obs_buf = np.zeros([size, obs_dim], dtype=np.float32)\n",
        "        self.acts_buf = np.zeros([size], dtype=np.float32)\n",
        "        self.rews_buf = np.zeros([size], dtype=np.float32)\n",
        "        self.done_buf = np.zeros(size, dtype=np.float32)\n",
        "        self.max_size, self.batch_size = size, batch_size\n",
        "        self.ptr, self.size, = 0, 0\n",
        "\n",
        "        # Device\n",
        "        self.device = torch.device(\"cuda\" if torch.cuda.is_available() else \"cpu\")\n",
        "\n",
        "    def add(\n",
        "        self,\n",
        "        obs: np.ndarray,\n",
        "        act: np.ndarray, \n",
        "        rew: float, \n",
        "        next_obs: np.ndarray, \n",
        "        done: bool,\n",
        "    ):\n",
        "        self.obs_buf[self.ptr] = obs\n",
        "        self.next_obs_buf[self.ptr] = next_obs\n",
        "        self.acts_buf[self.ptr] = act\n",
        "        self.rews_buf[self.ptr] = rew\n",
        "        self.done_buf[self.ptr] = done\n",
        "        self.ptr = (self.ptr + 1) % self.max_size\n",
        "        self.size = min(self.size + 1, self.max_size)\n",
        "\n",
        "    def sample(self):\n",
        "        idxs = np.random.choice(self.size, size=self.batch_size, replace=False)\n",
        "\n",
        "        return (torch.from_numpy(self.obs_buf[idxs]).to(self.device),\n",
        "                torch.from_numpy(self.acts_buf[idxs]).long().to(self.device),\n",
        "                torch.from_numpy(self.rews_buf[idxs]).to(self.device),\n",
        "                torch.from_numpy(self.next_obs_buf[idxs]).to(self.device),\n",
        "                torch.from_numpy(self.done_buf[idxs]).to(self.device))\n",
        "\n",
        "    def __len__(self):\n",
        "        return self.size"
      ]
    },
    {
      "cell_type": "markdown",
      "metadata": {
        "id": "3o46U8XU2Fwo"
      },
      "source": [
        "**DQN**: The Q network that returns Q-values for state-action pairs"
      ]
    },
    {
      "cell_type": "code",
      "execution_count": null,
      "metadata": {
        "id": "ZF6azuoI2jsy"
      },
      "outputs": [],
      "source": [
        "import torch\n",
        "from torch import nn\n",
        "import torch.nn.functional as F\n",
        "\n",
        "\n",
        "class DQN(nn.Module):\n",
        "\n",
        "    def __init__(self, action_size, input_dim=1):\n",
        "        super(DQN, self).__init__()\n",
        "\n",
        "        self.action_size = action_size \n",
        "\n",
        "        # Network\n",
        "        self.f1 =  nn.Linear(input_dim, 32)\n",
        "        self.bn1 = nn.BatchNorm1d(32)\n",
        "        self.f2 = nn.Linear(32, 32)\n",
        "        self.bn2 = nn.BatchNorm1d(32)\n",
        "        self.head = nn.Linear(32, self.action_size)\n",
        "\n",
        "        # Device\n",
        "        self.device = torch.device(\"cuda\" if torch.cuda.is_available() else \"cpu\")\n",
        "\n",
        "    def forward(self, x):\n",
        "\n",
        "        x = x.to(self.device)\n",
        "\n",
        "        x = F.relu(self.bn1(self.f1(x)))\n",
        "        x = F.relu(self.bn2(self.f2(x)))\n",
        "        \n",
        "        return self.head(x)\n",
        "        "
      ]
    },
    {
      "cell_type": "markdown",
      "metadata": {
        "id": "jLzFjW4h7540"
      },
      "source": [
        "**Agent**: The Python class featuring the main learning steps for the DQN agent"
      ]
    },
    {
      "cell_type": "code",
      "execution_count": null,
      "metadata": {
        "id": "BCf64x-z50m9"
      },
      "outputs": [],
      "source": [
        "from math import tau\n",
        "from torch import optim\n",
        "import random\n",
        "\n",
        "class Agent():\n",
        "    \"\"\"Interacts with and learns from the environment.\"\"\"\n",
        "\n",
        "    def __init__(self, dqn, memory, lr=1e-4, batch_size=64, update_every=5, gamma=0.99, tau=1e-3, epsilon=0.1, seed=0, render=False, optimal=False):\n",
        "        \"\"\"Initialize an Agent object.\n",
        "        \n",
        "        Params\n",
        "        ======\n",
        "            dqn (nn.Module): Module implementing the DQN\n",
        "            memory (object): Replay buffer object\n",
        "            seed (int): Random seed\n",
        "        \"\"\"\n",
        "\n",
        "        # Device\n",
        "        self.device = torch.device(\"cuda\" if torch.cuda.is_available() else \"cpu\")\n",
        "\n",
        "        # Q-Network\n",
        "        self.qnetwork_local = dqn.to(self.device)\n",
        "        self.qnetwork_target = dqn.to(self.device)\n",
        "        self.optimizer = optim.Adam(self.qnetwork_local.parameters(), lr=lr)\n",
        "\n",
        "        # Other params\n",
        "        self.lr = lr\n",
        "        self.batch_size = batch_size\n",
        "        self.update_every = update_every\n",
        "        self.gamma = gamma\n",
        "        self.tau = tau\n",
        "        self.epsilon = epsilon\n",
        "\n",
        "        self.render = render\n",
        "        self.optimal = optimal\n",
        "\n",
        "        # Replay memory\n",
        "        self.memory = memory\n",
        "        # Initialize time step (for updating every update_every steps)\n",
        "        self.t_step = 0\n",
        "\n",
        "    def episode(self, env, max_steps=1000):\n",
        "        \n",
        "        state = env.reset()\n",
        "        score = 0\n",
        "\n",
        "        if self.render:\n",
        "          env.render()\n",
        "\n",
        "        for _ in range(max_steps):\n",
        "            \n",
        "            action = self.act(state, self.epsilon)\n",
        "            a = env.step(action)\n",
        "            next_state, reward, done, _, info = env.step(action)\n",
        "            \n",
        "            if not(self.optimal):\n",
        "              self.step(state, action, reward, next_state, done)\n",
        "              \n",
        "            state = next_state\n",
        "            score += reward\n",
        "            if done:\n",
        "                break\n",
        "\n",
        "        return score\n",
        "\n",
        "    def step(self, state, action, reward, next_state, done):\n",
        "        # Save experience in replay memory\n",
        "        self.memory.add(state, action, reward, next_state, done)\n",
        "        \n",
        "        # Learn every update_every time steps\n",
        "        self.t_step = (self.t_step + 1) % self.update_every\n",
        "        if self.t_step == 0:\n",
        "            # If enough samples are available in memory, get random subset and learn\n",
        "            if len(self.memory) >  self.batch_size:\n",
        "                experiences = self.memory.sample()\n",
        "                self.learn(experiences)\n",
        "\n",
        "    def learn(self, experiences):\n",
        "        \"\"\"Update value parameters using given batch of experience tuples.\n",
        "        Params\n",
        "        ======\n",
        "            experiences (Tuple[torch.Tensor]): tuple of (s, a, r, s', done) tuples \n",
        "        \"\"\"\n",
        "        states, actions, rewards, next_states, dones = experiences\n",
        "        \n",
        "        # Get max predicted Q values (for next states) from target model\n",
        "        Q_targets_next = self.qnetwork_target(next_states).detach().max(1)[0].unsqueeze(1)\n",
        "        # Compute Q targets for current states \n",
        "        Q_targets = rewards.unsqueeze(1) + (self.gamma * Q_targets_next * (1 - dones.unsqueeze(1)))\n",
        "\n",
        "        # Get expected Q values from local model\n",
        "        Q_expected = self.qnetwork_local(states).gather(1, actions.unsqueeze(1))\n",
        "\n",
        "        # Compute loss\n",
        "        loss = F.mse_loss(Q_expected, Q_targets)\n",
        "        # Minimize the loss\n",
        "        self.optimizer.zero_grad()\n",
        "        loss.backward()\n",
        "        self.optimizer.step()\n",
        "\n",
        "        # ------------------- update target network ------------------- #\n",
        "        self.soft_update(self.qnetwork_local, self.qnetwork_target, self.tau)                     \n",
        "\n",
        "    def act(self, state, eps=0.):\n",
        "        \"\"\"Returns actions for given state as per current policy.\n",
        "        \n",
        "        Params\n",
        "        ======\n",
        "            state (array_like): current state\n",
        "            eps (float): epsilon, for epsilon-greedy action selection\n",
        "        \"\"\"\n",
        "        state = torch.from_numpy(state).float().unsqueeze(0).to(self.device)\n",
        "        self.qnetwork_local.eval()\n",
        "\n",
        "        with torch.no_grad():\n",
        "            action_values = self.qnetwork_local(state)\n",
        "        self.qnetwork_local.train()\n",
        "\n",
        "        # Epsilon-greedy action selection\n",
        "        if random.random() > eps:\n",
        "            return np.argmax(action_values.cpu().data.numpy())\n",
        "        else:\n",
        "            return random.choice(np.arange(self.qnetwork_local.action_size))\n",
        "\n",
        "    def soft_update(self, local_model, target_model, tau):\n",
        "        \"\"\"Soft update model parameters.\n",
        "        θ_target = τ*θ_local + (1 - τ)*θ_target\n",
        "        Params\n",
        "        ======\n",
        "            local_model (PyTorch model): weights will be copied from\n",
        "            target_model (PyTorch model): weights will be copied to\n",
        "            tau (float): interpolation parameter \n",
        "        \"\"\"\n",
        "        for target_param, local_param in zip(target_model.parameters(), local_model.parameters()):\n",
        "            target_param.data.copy_(tau*local_param.data + (1.0-tau)*target_param.data)\n"
      ]
    },
    {
      "cell_type": "markdown",
      "metadata": {
        "id": "t8Ek3uDFNF66"
      },
      "source": [
        "**Main training function**: the function that trains the agent on the environment"
      ]
    },
    {
      "cell_type": "code",
      "execution_count": null,
      "metadata": {
        "id": "fNYHjjAjIkbz"
      },
      "outputs": [],
      "source": [
        "from tqdm import tqdm\n",
        "\n",
        "def DeepQLearning(env: gym.Env, agent: object, num_episodes: int, max_steps=1000, save_model=None):\n",
        "\n",
        "  reward_per_ep = list()\n",
        "\n",
        "  for i in tqdm(range(num_episodes)):\n",
        "    reward = agent.episode(env, max_steps=max_steps)\n",
        "    reward_per_ep.append(reward)\n",
        "  \n",
        "  if save_model is not None:\n",
        "    torch.save(agent.qnetwork_local.state_dict(), save_model)\n",
        "\n",
        "  return reward_per_ep"
      ]
    },
    {
      "cell_type": "markdown",
      "metadata": {
        "id": "nqyd52Do52Z1"
      },
      "source": [
        "## Training & Evaluation"
      ]
    },
    {
      "cell_type": "markdown",
      "metadata": {
        "id": "1Jo9Sm8kc1xH"
      },
      "source": [
        "Define parameters and initialize modules"
      ]
    },
    {
      "cell_type": "code",
      "execution_count": null,
      "metadata": {
        "id": "yoTXrltuONr3"
      },
      "outputs": [],
      "source": [
        "# set parameters of the Agent and ReplayBuffer\n",
        "lr = 1e-4\n",
        "batch_size = 64\n",
        "update_every = 5 \n",
        "gamma = 0.99\n",
        "tau = 0.5\n",
        "epsilon = 0.1\n",
        "\n",
        "buffer_size=int(1e+3)\n",
        "seed=0\n",
        "\n",
        "# instantiate Q-network\n",
        "dqn = DQN(action_size=env.action_space.n,\n",
        "          input_dim=env.observation_space.shape[0])\n",
        "\n",
        "# instantiate memory buffer\n",
        "memory = ReplayBuffer(obs_dim=env.observation_space.shape[0],\n",
        "                      size=buffer_size,\n",
        "                      batch_size=batch_size)\n",
        "# instantiate agent\n",
        "agent = Agent(dqn,\n",
        "              memory,\n",
        "              lr=lr,\n",
        "              batch_size=batch_size,\n",
        "              update_every=update_every, \n",
        "              gamma=gamma,\n",
        "              tau=tau,\n",
        "              epsilon=epsilon)\n",
        "\n",
        "# number of episodes and file path to save the model\n",
        "num_episodes = 5000\n",
        "model_dir = os.path.join(root_dir, 'Models')\n",
        "save_model = os.path.join(model_dir, 'ffdqn_{}episodes.pth'.format(num_episodes))\n",
        "os.makedirs(model_dir, exist_ok =True)"
      ]
    },
    {
      "cell_type": "markdown",
      "metadata": {
        "id": "lWf3Zk7Fc0qZ"
      },
      "source": [
        "Run training loop"
      ]
    },
    {
      "cell_type": "code",
      "execution_count": null,
      "metadata": {
        "colab": {
          "base_uri": "https://localhost:8080/"
        },
        "id": "kiENSBENKeB8",
        "outputId": "8aa2afd4-e8b3-475f-f904-6bf80cfed7a9"
      },
      "outputs": [
        {
          "output_type": "stream",
          "name": "stderr",
          "text": [
            "100%|██████████| 5000/5000 [02:16<00:00, 36.66it/s]\n"
          ]
        }
      ],
      "source": [
        "R = DeepQLearning(env, agent, num_episodes, save_model=save_model)"
      ]
    },
    {
      "cell_type": "markdown",
      "metadata": {
        "id": "FRjrzoZ_jjtU"
      },
      "source": [
        "Plot learning curve (i.e., average reward over fixed window)"
      ]
    },
    {
      "cell_type": "code",
      "execution_count": null,
      "metadata": {
        "id": "PZe0Ei4nk2Wg",
        "colab": {
          "base_uri": "https://localhost:8080/",
          "height": 282
        },
        "outputId": "c71c45ee-37ab-43ca-a184-b3d9ca8785e7"
      },
      "outputs": [
        {
          "output_type": "execute_result",
          "data": {
            "text/plain": [
              "[<matplotlib.lines.Line2D at 0x7fd11965b710>]"
            ]
          },
          "metadata": {},
          "execution_count": 144
        },
        {
          "output_type": "display_data",
          "data": {
            "text/plain": [
              "<Figure size 432x288 with 1 Axes>"
            ],
            "image/png": "[encoded data removed]"
          },
          "metadata": {
            "needs_background": "light"
          }
        }
      ],
      "source": [
        "from matplotlib import pyplot as plt\n",
        "\n",
        "def averagewindow(R, d=1):\n",
        "    n = len(R)\n",
        "    t = []\n",
        "    y = []\n",
        "    for i in range(0,int(n/d)):\n",
        "        t.append(np.mean(range(i*d,(i+1)*d)));\n",
        "        y.append(np.mean(R[i*d:min(n,(i+1)*d)]))\n",
        "    return t,y\n",
        "\n",
        "window = 10\n",
        "t,y = averagewindow(R, d=window)\n",
        "plt.plot(t, y)"
      ]
    },
    {
      "cell_type": "code",
      "execution_count": null,
      "metadata": {
        "id": "TnIQBBSXFxEU",
        "colab": {
          "base_uri": "https://localhost:8080/"
        },
        "outputId": "9313c0dc-73f6-441c-e563-744bc459dd5d"
      },
      "outputs": [
        {
          "output_type": "stream",
          "name": "stderr",
          "text": [
            "/usr/local/lib/python3.7/dist-packages/gym/wrappers/record_video.py:79: UserWarning: \u001b[33mWARN: Overwriting existing videos at /content/drive/MyDrive/CASAdvancedML/Videos folder (try specifying a different `video_folder` for the `RecordVideo` wrapper if this is not desired)\u001b[0m\n",
            "  f\"Overwriting existing videos at {self.video_folder} folder \"\n",
            "  0%|          | 0/5 [00:00<?, ?it/s]/usr/local/lib/python3.7/dist-packages/gym/wrappers/monitoring/video_recorder.py:79: DeprecationWarning: \u001b[33mWARN: Recording ability for environment CartPole-v0 initialized with `render_mode=None` is marked as deprecated and will be removed in the future.\u001b[0m\n",
            "  f\"Recording ability for environment {env.spec.id} initialized with `render_mode=None` is marked \"\n",
            "/usr/local/lib/python3.7/dist-packages/gym/core.py:44: DeprecationWarning: \u001b[33mWARN: The argument mode in render method is deprecated; use render_mode during environment initialization instead.\n",
            "See here for more information: https://www.gymlibrary.ml/content/api/\u001b[0m\n",
            "  \"The argument mode in render method is deprecated; \"\n",
            "/usr/local/lib/python3.7/dist-packages/gym/envs/classic_control/cartpole.py:180: UserWarning: \u001b[33mWARN: You are calling 'step()' even though this environment has already returned terminated = True. You should always call 'reset()' once you receive 'terminated = True' -- any further steps are undefined behavior.\u001b[0m\n",
            "  \"You are calling 'step()' even though this \"\n",
            " 20%|██        | 1/5 [00:00<00:02,  1.40it/s]/usr/local/lib/python3.7/dist-packages/gym/wrappers/monitoring/video_recorder.py:79: DeprecationWarning: \u001b[33mWARN: Recording ability for environment CartPole-v0 initialized with `render_mode=None` is marked as deprecated and will be removed in the future.\u001b[0m\n",
            "  f\"Recording ability for environment {env.spec.id} initialized with `render_mode=None` is marked \"\n",
            "/usr/local/lib/python3.7/dist-packages/gym/core.py:44: DeprecationWarning: \u001b[33mWARN: The argument mode in render method is deprecated; use render_mode during environment initialization instead.\n",
            "See here for more information: https://www.gymlibrary.ml/content/api/\u001b[0m\n",
            "  \"The argument mode in render method is deprecated; \"\n",
            "/usr/local/lib/python3.7/dist-packages/gym/envs/classic_control/cartpole.py:180: UserWarning: \u001b[33mWARN: You are calling 'step()' even though this environment has already returned terminated = True. You should always call 'reset()' once you receive 'terminated = True' -- any further steps are undefined behavior.\u001b[0m\n",
            "  \"You are calling 'step()' even though this \"\n",
            " 40%|████      | 2/5 [00:01<00:02,  1.36it/s]/usr/local/lib/python3.7/dist-packages/gym/wrappers/monitoring/video_recorder.py:79: DeprecationWarning: \u001b[33mWARN: Recording ability for environment CartPole-v0 initialized with `render_mode=None` is marked as deprecated and will be removed in the future.\u001b[0m\n",
            "  f\"Recording ability for environment {env.spec.id} initialized with `render_mode=None` is marked \"\n",
            "/usr/local/lib/python3.7/dist-packages/gym/core.py:44: DeprecationWarning: \u001b[33mWARN: The argument mode in render method is deprecated; use render_mode during environment initialization instead.\n",
            "See here for more information: https://www.gymlibrary.ml/content/api/\u001b[0m\n",
            "  \"The argument mode in render method is deprecated; \"\n",
            " 60%|██████    | 3/5 [00:02<00:01,  1.32it/s]/usr/local/lib/python3.7/dist-packages/gym/wrappers/monitoring/video_recorder.py:79: DeprecationWarning: \u001b[33mWARN: Recording ability for environment CartPole-v0 initialized with `render_mode=None` is marked as deprecated and will be removed in the future.\u001b[0m\n",
            "  f\"Recording ability for environment {env.spec.id} initialized with `render_mode=None` is marked \"\n",
            "/usr/local/lib/python3.7/dist-packages/gym/core.py:44: DeprecationWarning: \u001b[33mWARN: The argument mode in render method is deprecated; use render_mode during environment initialization instead.\n",
            "See here for more information: https://www.gymlibrary.ml/content/api/\u001b[0m\n",
            "  \"The argument mode in render method is deprecated; \"\n",
            "/usr/local/lib/python3.7/dist-packages/gym/envs/classic_control/cartpole.py:180: UserWarning: \u001b[33mWARN: You are calling 'step()' even though this environment has already returned terminated = True. You should always call 'reset()' once you receive 'terminated = True' -- any further steps are undefined behavior.\u001b[0m\n",
            "  \"You are calling 'step()' even though this \"\n",
            " 80%|████████  | 4/5 [00:03<00:00,  1.31it/s]/usr/local/lib/python3.7/dist-packages/gym/wrappers/monitoring/video_recorder.py:79: DeprecationWarning: \u001b[33mWARN: Recording ability for environment CartPole-v0 initialized with `render_mode=None` is marked as deprecated and will be removed in the future.\u001b[0m\n",
            "  f\"Recording ability for environment {env.spec.id} initialized with `render_mode=None` is marked \"\n",
            "/usr/local/lib/python3.7/dist-packages/gym/core.py:44: DeprecationWarning: \u001b[33mWARN: The argument mode in render method is deprecated; use render_mode during environment initialization instead.\n",
            "See here for more information: https://www.gymlibrary.ml/content/api/\u001b[0m\n",
            "  \"The argument mode in render method is deprecated; \"\n",
            "/usr/local/lib/python3.7/dist-packages/gym/envs/classic_control/cartpole.py:180: UserWarning: \u001b[33mWARN: You are calling 'step()' even though this environment has already returned terminated = True. You should always call 'reset()' once you receive 'terminated = True' -- any further steps are undefined behavior.\u001b[0m\n",
            "  \"You are calling 'step()' even though this \"\n",
            "100%|██████████| 5/5 [00:03<00:00,  1.31it/s]\n"
          ]
        }
      ],
      "source": [
        "import os\n",
        "\n",
        "# set parameters to evaluate agent\n",
        "agent.optimal = True\n",
        "agent.epsilon = 0.0\n",
        "vid_episodes = 5\n",
        "prefix = os.path.basename(save_model).split('.')[0]\n",
        "\n",
        "# use wrapper to record videos\n",
        "env_vid = RecordVideo(env, \n",
        "                      video_folder=video_folder,\n",
        "                      episode_trigger=lambda ep: (ep < vid_episodes),\n",
        "                      step_trigger=None,\n",
        "                      video_length=0,\n",
        "                      name_prefix=prefix,\n",
        "                      new_step_api=True\n",
        "                      )\n",
        "\n",
        "# use wrapper to record videos\n",
        "R_test = DeepQLearning(env_vid, agent, vid_episodes)\n"
      ]
    },
    {
      "cell_type": "code",
      "execution_count": null,
      "metadata": {
        "id": "VEHynk-yihv3",
        "colab": {
          "base_uri": "https://localhost:8080/",
          "height": 1000
        },
        "outputId": "c682c3c3-a21f-4d3e-ffd3-1854cb9be4f8"
      },
      "outputs": [
        {
          "output_type": "display_data",
          "data": {
            "text/plain": [
              "<IPython.core.display.HTML object>"
            ],
            "text/html": [
              "<video alt=\"drive/MyDrive/CASAdvancedML/Videos/ffdqn_lunland_5000episodes-episode-1.mp4\" autoplay \n",
              "                    loop controls style=\"height: 400px;\">\n",
              "                    <source src=\"data:video/mp4;base64,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\" type=\"video/mp4\" />\n",
              "                </video><br><video alt=\"drive/MyDrive/CASAdvancedML/Videos/ffdqn_lunland_5000episodes-episode-0.mp4\" autoplay \n",
              "                    loop controls style=\"height: 400px;\">\n",
              "                    <source src=\"data:video/mp4;base64,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\" type=\"video/mp4\" />\n",
              "                </video><br><video alt=\"drive/MyDrive/CASAdvancedML/Videos/ffdqn_lunland_5000episodes-episode-2.mp4\" autoplay \n",
              "                    loop controls style=\"height: 400px;\">\n",
              "                    <source src=\"data:video/mp4;base64,AAAAIGZ0eXBpc29tAAACAGlzb21pc28yYXZjMW1wNDEAAAAIZnJlZQAAJlxtZGF0AAACrgYF//+q3EXpvebZSLeWLNgg2SPu73gyNjQgLSBjb3JlIDE1MiByMjg1NCBlOWE1OTAzIC0gSC4yNjQvTVBFRy00IEFWQyBjb2RlYyAtIENvcHlsZWZ0IDIwMDMtMjAxNyAtIGh0dHA6Ly93d3cudmlkZW9sYW4ub3JnL3gyNjQuaHRtbCAtIG9wdGlvbnM6IGNhYmFjPTEgcmVmPTMgZGVibG9jaz0xOjA6MCBhbmFseXNlPTB4MzoweDExMyBtZT1oZXggc3VibWU9NyBwc3k9MSBwc3lfcmQ9MS4wMDowLjAwIG1peGVkX3JlZj0xIG1lX3JhbmdlPTE2IGNocm9tYV9tZT0xIHRyZWxsaXM9MSA4eDhkY3Q9MSBjcW09MCBkZWFkem9uZT0yMSwxMSBmYXN0X3Bza2lwPTEgY2hyb21hX3FwX29mZnNldD0tMiB0aHJlYWRzPTMgbG9va2FoZWFkX3RocmVhZHM9MSBzbGljZWRfdGhyZWFkcz0wIG5yPTAgZGVjaW1hdGU9MSBpbnRlcmxhY2VkPTAgYmx1cmF5X2NvbXBhdD0wIGNvbnN0cmFpbmVkX2ludHJhPTAgYmZyYW1lcz0zIGJfcHlyYW1pZD0yIGJfYWRhcHQ9MSBiX2JpYXM9MCBkaXJlY3Q9MSB3ZWlnaHRiPTEgb3Blbl9nb3A9MCB3ZWlnaHRwPTIga2V5aW50PTI1MCBrZXlpbnRfbWluPTI1IHNjZW5lY3V0PTQwIGludHJhX3JlZnJlc2g9MCByY19sb29rYWhlYWQ9NDAgcmM9Y3JmIG1idHJlZT0xIGNyZj0yMy4wIHFjb21wPTAuNjAgcXBtaW49MCBxcG1heD02OSBxcHN0ZXA9NCBpcF9yYXRpbz0xLjQwIGFxPTE6MS4wMACAAAAB9GWIhAAv//72rvzLK0cLlS4dWXuzUfLoSXL9iDB9aAAAAwAAAwAAJuKiZ0WFMeJsgAAALmAIWElDyDzETFWKgSvGXwOpnxJL1pFHS8oQBWpwCIzK+pw0tBaDsguRBKvSpqmHGIQNNpSPO5YqIYCG2VBGGuNkRgQxL/fI2T1713oNUbSD5DBjAF/6fZmrk6uNy3AIsDFxyvyOt67K7B3HpwBWp5EIivV2eUx1ioeIW5oCDrPtiBI77m4kf/5X/YfaWaZRaE/vB+1sytFgCYdHtqdHiEJuNZKdV5ytSoTP5AuJcgRWdoAC4mX94JdJB4tWfXuOvXAQf6zuUOeD8RUYA4bUN1gzwjEyiHoZrN3X5u6vcKJdQA2ScYJI0hOSAnfPZDR6kbuHXS0Jk0j8jZhls8yDpAv+UuzgopVrnYFVhbhp7FkbQPlu34geuWJBKeNP4wRPwhT4ionNGTU95ouC0kb+5Nnv8B4tRIj5LU5LsRdj3NQ95YZ+DZTmgTti6nYUX9OTRM7jNNtuZtbeKZ+lvYXFoo7GNIA85bVaVf9JF16iv2qwJoq7P08KjoSsDpFfInyUmLdNawcgAAv4TJ7oxzKMlrqB/ciYt93+aNFchTc/Bxq6taMiz139fYkPjnasFDYsLuysaABmx7BEAAADAAADAE1BAAAAgEGaJGxC//6MsAAARgphfGodJAzEACkf1Jvsts0Jcs2NFZ/uxoRAMNPONSjbqpNaaxL1pr6y8lxo/Er3oxQd/yez6pv1gW30P7qLqrIEMK+tbnW8sPW9B0TRTenvwDkTsdvsv9DaKbr9evcdN8navcTVkm3HjVLbBZLxRgwbYUTIAAAAMEGeQniEfwAAFr5LrXIMnfVZciUdMQDIQjH2uZt1O3tJXti4ap0w+xgA8YSVTgp1owAAACcBnmF0R/8AAA2F3PuxQ7uiqlj14MIj58aVXUu4aRtyml1mL4B9sygAAAA4AZ5jakf/AAAjscwDOgMquftY7kNlXDLkZAwGBUqr3g88iZ4CAAWyTDgnuAUe4iducsMhF9WQ5YEAAAC6QZpmSahBaJlMFPC//oywAABGAfI85n5meFZq7s2ANvfAftd+zi5vXilFEMCQ8wHyyi0SzMqKsRjTyQTpGZAzy0wvdHnyrCRg5cbFVYk02xa3+h2qnX073T9pFgwGVmXKzCCsiFto7Ud4vQDsx6B1m59jzgEUIuHjPuOnUjn4hO0KLTod38vV4gSfgADpqznhzy227FoSgfVH/iVsxTltFinoOZF7h3ycyWV+vkN6Fsx7N3UE6t2NHkHZAAAARwGehWpH/wAAI65eM3+zMPDB5wQ4YzgttyACMgD/2AT9AH3IrTp+qY/lwFgWlzSuJ138BjY5U/vkQZ2KrYuYztS131+cCWalAAABDUGaiknhClJlMCF//oywAABGAUTgssAX1ShEOCxX+lW4voVHou/Jt+Q8CV27tvDV6lk+HiWmNnEAhzaHnQ4nFbMap3Qjc2z1J+584wBZSE+wUExD3QMVVfraTNGvkzEyy054KPlaYPYPxOhJ15uWezsccNK5qomgFdfrAV9z7VJg+kwVIHTaili0+enWvSbbgBK6bw3p4mTUX5aAfQ3bLDzBJeQF/+13et3UYTVgpMdEf/7wprEMnBNBYqcHBkwKtavb6eLSuhnA/6HHMY7QbPtSV1ZnwfIRWIZqB/Eqi9T/H7e7j9hrpmqScDEJd1KiO///6mMqFaiVrwsJE4ZTNgpVmtGt892ZdMtFdhSlAAAAVUGeqEU0TCP/AAAWsrbGytm2AXhV5n3NXUcugaM8lzRm7V3MPEsL8/Tkcyw0B3/EcPFcip2QMVKLw+7LcJRusjw6JiOr0qzweFZw1wDlTzjM0vT+6YAAAABMAZ7HdEf/AAAjqelZbii/c8GBCJuvvUj4E/6B9cQsJ++TkqB7tUgQ7jLuTh3KUcaoAPlDtPD8iOsR+5Hp6EooBO4G8YH/VkIKQBlonwAAAEABnslqR/8AACOuZ3wAOO43vQJIZOrtIKaz8sGOTBusCmkA0LY9AqYywvx6w+Wc3IIp8W7Fd/BDaEyW/YFQhfvRAAAAfEGazkmoQWiZTAhf//6MsAAARhCROGRgB0ILp7jhpR88afcpEh/2JuxbC6xeRNfkbS2o8csp7AQ79scX+EkDt2rFDTeh0zBQ8ZVDvFudTYsciNIW13cAEu0OpaHo22GowcP/pwjEop1ZogC7ELP89BvGHsUQ8IsXZccOPJkAAABIQZ7sRREsI/8AABak8v5Y5Zmy5DToD+LehR3FO200QgyLJ7aWAOmTlfxrVwAem/k0z0hbg02DCqBR1YAFxUegnaulJ23lddJsAAAALwGfC3RH/wAAI59LTlJZ5vpcG0RIxjCjZ9gMM7HPGkQtEeO3AmHWEgoMqQnbcuCBAAAAKgGfDWpH/wAAI7HMCW+Z888mvLg2X10rDagpmwlJEKKLCeYBQgAv3EkeCQAAAKNBmxJJqEFsmUwIV//+OEAAAQ4IbtKUfp0tAHvChG2xBwK83g5VBogGq7EGr3bIBdID4TerBAHfi8RmAUL0/GJrEDrJciIpKd8kczzNJrGAHtsN6XP/nE6tZaVYmgKnCHtWC5ZC7KRXXcB00nVX705VJl+D4lRI+YIbDKCu71DIKsiaK0hybnxEujHH/iSu7qL57t/n8FuWv8okLJVI2vxAbmHpAAAAQkGfMEUVLCP/AAAWcVal1RQwZYL/BCgFRWXac8GzViUdgqvXkBYLdWtSkfsUZtYKoOUtlXSZI8xXL/Mor8CbIpYk2AAAADkBn090R/8AACPC8HbR2W6C2Oxt6O8mfo2WIc5PJGVtSuPbp8NIbuXAk6YvZSmTa6pTEEzsBnnY7b0AAAA2AZ9Rakf/AAAjvwQsXNrs5JH79tYNQBsYRjbSN8paRjG+qDUDiziDxzw4Xlj5ymZXVWV77Ut7AAAAnUGbU0moQWyZTAhf//6MsAAARhNfHlXmZT7/d9oLawHe1wCBtqqGBvaCtDACMCFiGYAZwhca0chJKmdPFCrXzJaLMG6YfJ6sHaBztd8hjJ70klQVCUhnc6/EF8BRpB1M66AI08T2CgnqtaGwjyoOO3lYgYUTScMHMXQottlJqQboWL/+I9deaFaCiRHbWVwkqedQSNH9Tubur19J17AAAACYQZt0SeEKUmUwIZ/+nhAAABpZIUlsACIPIv5aRyw0j1qEtq54QgN4moba27wNx27j0JSNvF04uQ+OU6g7SnR2FGyHjhjIP+6DtLkH3bKTeeVYeg9a2HlWLLS1aCcIrL/+7UlhWU7yLXzDrSfbZ1m6HXXypcm7qZVYHx5JMRJ2iDIhMIe+YRmQvDFLJmJEpYg0qUf5QhD7oosAAABbQZuYSeEOiZTAhn/+nhAAAEVDzawm3mG4umff40+oIBz3j735TAnQAk2Ekbx+23XJz52Lz2feJUmOGMWB3Re9vjlZANV1jE0Nq10UKk3UkzEm5QyHCsaj8vs/YwAAAEhBn7ZFETwj/wAAFrKsL06nVAXc5AELAKNseZAzEPZOExPKskINDsCjTMlOb39EkRcbyalMPusaRdEzu8d1FgMZMGspEUi7tmAAAAAnAZ/VdEf/AAAjwJkogmQQYoLWJw2pdkH3UZP1cEoj990E0g7PWHJBAAAAKgGf12pH/wAAI72EA/v/puiMTw/xz66j1j/iY1pfTLmfPGCReG6B3hKPJQAAAH1Bm9xJqEFomUwIX//+jLAAAEgBc3PgF5Ju9OSDhkL57jgXYUibbhUQMfmDfv1/cch4Cl7BocYUDnLC3P7nb9MbkOLAqzcfS6S3dp8fVDsc+jS+cbXlbHzuFsB5dMgpFMTZYrWRNup3waT+mHccWh5FktR87iFZP6M/Z+z/4gAAAElBn/pFESwj/wAAF0ID1xnJ8bG+t8BYTW+76oxpeEAa0MYqD351Q03Jvxna0hJo7e3xvD8JZcKrv86AEDT9EHzmcddJ+cKwRICBAAAALQGeGXRH/wAAJMMBhAmL6rKcpb5F8KvSQAlgNgAClf7XkhOwKyVOnRwd1gKPgAAAACsBnhtqR/8AACSuXjOBcgpfrxM9wycG6+JQiQJtKIbXi7DNMfPYTTubXYIDAAAAeEGaAEmoQWyZTAhf//6MsAAASAFfNi1oAvTHYTBHeW/tUeQYaiwap39kC4ukv6ptYG/+Vgmzgpqi9hPt+r9LkFajT/YUGff/p5CGCvH1gM/3ntM8DbsH1BdmzP64SI9dEyMH/YPm3XDBUi84vSCbW7FkVm/rUIPVdQAAAD1Bnj5FFSwj/wAAF0tbT/KsgiSwrdtWcncsU98J6QvhGw0EyNgQrTivUkkelwsuT3UAfwAC6cAkjYnnhl5MAAAAKwGeXXRH/wAAJMCZ3eimOapKTXhkajjFePZJ0ep+dW2ugm/zPmHX2rAPb2YAAAAoAZ5fakf/AAAkkrrM4RBJ/nT1lqIOJeIQhLA9w/cOM2dGN7AatoTFQQAAAFxBmkRJqEFsmUwIX//+jLAAAEgQqjRQnjD175oSAGnAvylbHmpqW++qBi0JvyUpnoBbpcwhYAszhOJtOUnKsqXazVQjKhsuDm3OjbnbZ+RYSojLSZUb9MscWHr57AAAADFBnmJFFSwj/wAAF0I1Pqvsp6A/kQlSBS+myxeXhOd3g3gstYuY4I3RgJwQfzLQ521JAAAAJwGegXRH/wAAJL/vaZKnwip1T89mbFDS9GoC6jkcVXembj/1JKHakAAAACgBnoNqR/8AACStXI/mUYh7o76knMChJul1BZhXvHsD2+QzlOsfnfUhAAAAWkGahkmoQWyZTBRML//+jLAAAEoA7Nfp3oJOqvpSJkpG6FI5ALYDCnSADVTgujRg6sa/FmMXMqzqGNaYaYRdllHdl571weev6vpBydxZnrvvyija5cmvvjbMQQAAADkBnqVqR/8AACWtW8OJCW/N1hzHZmfdyrD1yZvxJY9S0wcqEADP4HssomPvUVTwyu11pM8UQjVERYEAAAB+QZqpSeEKUmUwIX/+jLAAAEoBcy0fla9O33tdda6BHaZoSqFc1sfS8NkymaYpYUB5GomBruw9JNmAL1V5aZzpIR6aQzSTWURLRrPtiaXP15IOTAMWz/kiGDdmYKqFxPSPI7E78xpasJLwhk53Tk6O/SzwayGdL93h2/i5PfXBAAAAN0Gex0U0TCP/AAAX33UdC142ZNtJ6UkC4/HmvSrZ2zDpMv5/s5aaH81p6qiilFCsH4yoZlv3TvcAAAAuAZ7oakf/AAAlrVvDiQju2dak+3+e1QFZd9g0T94nop1OBCJDLW+nj00fZ3nXgAAAAGVBmu1JqEFomUwIX//+jLAAAEoBh0UJ4w4sqDeTUMK2FAAW1rqOdITIuEK3PtDQTO2hpvyG8WvKluzJ2UtRV+hLKMuQ6t1hryOEIMR97lu7ZJGN8LdND63L/7o0PMBX+fSInAyb0QAAACRBnwtFESwj/wAAF991Pqm3UrzZfhVMMFdaByQMFDrt4ENKQWAAAAAuAZ8qdEf/AAAlv++NS/tI1ISc2KqdnDu3xT+/TX6CkkK2gmfMRJwrCjU0HjhosAAAADIBnyxqR/8AACWtXI/mTdlerhq2NkzKS5lNJbO9SZYBAsUiX28iO8qW/ucZLUmG6i17PwAAAJJBmy9JqEFsmUwUTC///oywAABMATzBDlWugMBAAONs/rAzgCfOz1465aKpLcp0VxicU17iRlexPdPJ/ggvay9OjH7hqi7rzpog0GeqU+xsp98l38P2KBKdMuZA5LlH8W29ktW0Mqk68pBqeLSHUmWXDi1yLq6O+qEcBCkC199WzpFNbf5u+DdZGF09w8LOZgvFQQAAADkBn05qR/8AACatW8OJCO9KOIatYrKU52bSl2KOmm0kn6d8cUCUWhxUTDgD2m7ka+fgzyS11ImKz4EAAABcQZtRSeEKUmUwUsL//oywAABMAV82LWgC+IKyQbjjIWLxDGMl2XXfiF0Gtzfrp5Gxe0JWoQF5vF7mPQUHK+CyKTgCVDisK36IdfgFgBf2Nk1wpf1CYbjimMZ+NxAAAAApAZ9wakf/AAAmvSZbrIPJGHIa/rwUxN0AL+z8PqQILQs5+tlWyDkYigMAAABTQZt1SeEOiZTAhf/+jLAAAE4QrzLHLJOx+JddWcG7E6CLpUpGRG3C19wmGS68a2eF1lkk3kQHAd6L7bEYZNEAIhURJmGO2WPcTOtmwoCSED8CyP0AAAAxQZ+TRRU8I/8AABkpgs22aCArF6HuhDVhcz6bP0m91Drmh9PrrVwrF1cTZg3OeT7KgAAAAC4Bn7J0R/8AACa/728iupKFQMYuvCMNQDn/bUjkjkdNJQ7nQNNXmY2R2scVP8qAAAAAOgGftGpH/wAAJ9mBkUqoeFom5VShgmXKeGQ0UJ/ON4sBULf+n2S5ZkJGsFnAsHI+3y5oI9wwQOLS2VEAAABFQZu3SahBaJlMFPC//oywAABOAV8wRSlbCmuwUMZZM9gSVCe3OXqK2LJL+Nm2+TqtmEwF2R8XlNX08uw5Y2VSe0f9V4S1AAAAJQGf1mpH/wAAJ9cy4ayDyRh0b40lDdolkZQXRyzuxTECsft2bKkAAABkQZvbSeEKUmUwIV/+OEAAATT060qJy/7IJ8vJACCMMjKXCmG2JkdADhtQbnO/XyycUOWIPhxZjvCbuRpxyvJGd15ABj2VvA2dUpKXwWHChW6BFb8L6KrTn3qn0siCg15koksAgQAAADlBn/lFNEwj/wAAGcl8fLJgtmMrFqo6zDmbAaYNl+zbpRuFAC2twxRltOkkyaW1zJKHJUSAlt9SWVAAAAAoAZ4YdEf/AAAn2pztSU1cSYpMIzJM9H0MO/bexo6C4YS3cFnlFdLwgQAAAD0BnhpqR/8AACj5bPuWJ+eqAwjbnjGj/i/CACWpOFxdKBWAOWXf9sHSTKqRh/S5rebrk2OfJWEsIzYVC7FgAAAAaEGaHEmoQWiZTAhf//6MsAAAUCrJtO/YhO010RLMHjuuk+AIQaLeGSAGxzCfK1qo2uTGNr1tJ5j0TBpLSRgu6pbC7XNE4mUYwaodl/Niui4wLpIn0WFZIwvIklxlJ5oV2zKSWVMXGbsXAAAAdEGaPUnhClJlMCF//oywAABQKZrSJwAVukNw+K/06Zm6ZjHD7VOV2wpIVqnNOter5CDGCpskY+0KHdll4kGsN7r6Uj3vU5P/VW7a1GuZPM6MGIXwO7fohjqi/lBnjvdoFE7B7gWRUsM6+bTAVlaKhHkmtwmRAAAAXUGaQUnhDomUwIX//oywAABSankt353yUSdj+2cZP/i+pDG3yH3AAIU41hmx7I/7nYzaCp8SL0jFBehJjzLaNGne5iAqHc5IIoLYaLDw2jbj16VP8jx2c14gxlQbZgAAAEJBnn9FETwj/wAAGmmC06nvKh7sJ9WjkOf132U84Hkj1dFLUIrjHjwDtvOG6HQRucmnbno1Q05Xk+ZISnUS7orAjTAAAAAkAZ6edEf/AAAoyDulQUMMPhe5S8UgbkHmyTZzM5rMxRtXRxnxAAAALAGegGpH/wAAKhmA14eLcUSDfK0L5YR2WD4/UZU9oa3GeigFhjAN3jGvRo4QAAAAa0Gag0moQWiZTBTwv/6MsAAAUmoyOJWutbwvIPKqbBSok6Y0YXtfTVEWLUCeUnt4kPNF42rz//Gw7GfZtkAo44AaXd6kyTjQruFpUNCYprgO82gO4BvVg0xpgK6RZFfxg4GVROWxsvq7HFO7AAAAOAGeompH/wAAKgKcn/SGPzNSsAd9ojFRPydA9/aBPBa5awv2EZX/lkDys2h+QNJCKrAtvy3D8VgQAAAAnEGapknhClJlMCF//oywAABS17twqIQBC22esQ7B74eoSyNonRmuINCPgIrx1PBUHkmZ1laTqfHYUBkBzhcUFZ5FrDUXuX8+Hq8VmLNDqWAXVFBWwj1unDw3qw2l9JN5S0rBvr4LkRiusUug7LjpCu/ZncnlcAcQ2hobnkqvnWQg8DPYkHRYro9nwIEaZVLkLnfeze5oXtR47dBBsQAAAElBnsRFNEwj/wAAGmibbqbmdSWh2fK3ATEcuxS5ZX8e78HH6d5wPyN0wv43axF0sslWTDcQmNmFJ2BntTao9+jkv7LGM9J2Z/XdAAAAMwGe5WpH/wAAKgQZvI2sACwEnIROTQt+1ShMIk0+LFQyghd7kmiloJgA8xJWAQ/IhtThwQAAAFxBmuhJqEFomUwU8L/+jLAAAFUOn2WZPXwAyyUHIk8/XLoxnNBL8TC3Xna5YHrEQjmQPAUTKEWm+Ti3WCzOiATB98tUE7TjBGABfLdbrMvZdIGdjRKKj8IJDmp+4QAAADgBnwdqR/8AACsjDifroAS3JErykBRaMN0hFzg+Lxrgc3yGi+QkwElUg582aQl+O3vAk2n7OEm7gAAAAI1BmwxJ4QpSZTAhX/44QAABT44vfKsiT4EHewpKZ8GCigASvb9WCa8b/jNUPh21n3JWjEMezYW1RuL3l1a9iIMdinEU0ynT8p7lVKSROXCWqMcdo82DZzVmWKpaAR89wqgzw/EsB2bdyisnGxkuul01Jr0LKOQeFGlk6c4zuwzuntM/Lr3ehF8oRCRzs+gAAAA6QZ8qRTRMI/8AABupfIVSYLZjJBcKgEBTOoMPFv9Nz5GZcA5HiWHTtCVBiKY0Lb77CghZL+ClY33rYQAAADkBn0l0R/8AACse/3V+CS8aZkgGMn+zgUXa0zNTRy/ybvxl51c6wwLNspQ1GEwFysYO4Y8wfnYgC7gAAAAsAZ9Lakf/AAAsWWt98x4VGyI0Fu6bRrLokhUPiNIrUAJYJ010CfbgqD5ipwgAAABWQZtNSahBaJlMCF///oywAABW6ZDzTb6x34uuIUUMyfCXQU1HzyJCA6gr9KyDjmVDzb0Iz0rYXymCJmfwyBQhNdb4MkOH0qtL9WZNsgQeKEhXF5Ob99EAAABnQZtwSeEKUmUwIX/+jLAAAFb9AyrOVO2eBQbBoYvjz4NDX2vgQA2Mu6EwsHJI2nHGfYJjSVqlT7T8OcQNfrnNjm/NnL4b4dPNncvWdH0mPnR9k3OvBz5YjB9VO3tPXe1Mvj1yHxSzwQAAAChBn45FNEwj/wAAG5+SDWWouRwwXQNIu3raj+4XpUW9xWe4Il+m+61BAAAAKwGfr2pH/wAALEKdDKhvUTAW04mUAALnPe6LRNJPTranjGN+aSrC/Y8rTeYAAABFQZuySahBaJlMFPC//oywAABZKko4n66fTTUbwSDMZPbgS83FOxPQ5oDzjiNTCdGAEu8j5P3zRdgiigQcNGkYAYJbibaIAAAAQwGf0WpH/wAALWMOWv6e+rCuw8nQxKWhBSJxQzbGPqLo50pOpOG6dBQ0Zvc1mYOJJlV6/SvJ1MOaoAP36OYhURFMSy8AAABCQZvVSeEKUmUwIX/+jLAAAFkqcpW02uPeU3NAC22kAqGomAld1xStWv9gATMaN+ZOwW7CR/7uI7NORyYKhu5H9eP2AAAANEGf80U0TCP/AAAcQ2BIfTktkQQAEUtvqZJ02fBYJLBhRpxvd+gc7GmlNzNxImL55YaAsoAAAAAuAZ4Uakf/AAAtdsEVknE+C86bbgzluWlBq8UrlQnRbvIFBXiJH8HmmmVcFzq6QQAAAE9BmhdJqEFomUwU8L/+jLAAAFt9B0w8UAL5phGZCqC2qj+UjJg2MEHkiptGNxYt5bwADddH1kVQkR91KagV2I+He7cwElFu+zchziiKqj7YAAAASgGeNmpH/wAALoMOWv6e/CysElS4JiBIwlHOF8bg5XzQ8fbNM5JnDk44k9SxNv2YCrqAD5QNKGFFaj8uXyv4UaA6N+HHR72XACMfAAAAZUGaOknhClJlMCFf/jhAAAFq5wjPTpoO9lvuIpHqAJxlrcRCMvFfbkZmOVQh+psxDFaDiHGW9Ax7pg1s4RXeq+bFOtTWja/IB0tEgwMlO5e9laoXCVpi1B1uw61YTUSagM37WKEhAAAALkGeWEU0TCP/AAAduHrTfF6fUf9cGAleGCbMAwg70GdAXYYZMXDkDlMIre5TPLAAAAArAZ55akf/AAAv0jvuzeGwOUQ2Kwj/3nvakGCdf6nca+59KhPWniD2J1elwQAAAG9BmnxJqEFomUwU8K/+OEAAAWqNctmV6OV58Ep00VKmttUo4451n40nuwGQRpRtjqiPogCJ1gxxIMBijf+YI8Iazs0zbuiGK78gutdafiJTrOoktYxC9ts25o1YuClitJpZnzaT0Y2O4ijoTWTTrO8AAAA0AZ6bakf/AAAvt5629k5AthOF785OUqnbNMjhPxGmqfpOBZvdeAE1aXWpyTdATAXChVxhwQAAAFhBmp5J4QpSZTBSwr/+OEAAAWqM86qAG42g2KJ1zkIz5Z3OzTTDnrfLJx1T9TY+rZmsYGTLbF4TRQj0YUkxA/4hbQDIQmMghGKGO04bOWYqNHHkvA6J2eUnAAAAPQGevWpH/wAAMRJREEeeFrZc9t4xUe6apESzEhZ2+VG+nSEeR0zFDmOisccNa4wAA480TvLQduYOZecZtOAAAABcQZq/SeEOiZTAhf/+jLAAAGAV8OHq7A7peRAAiJhMk2o+kNb9gweY+L3DI3v9yY49ppG7ExlsGZCbxhzsI+4HG9LRheyZ8/N4iZp28fEeAOBFiRunKmNwdGX7WsgAAABoQZrDSeEPJlMCFf/+OEAAAX0+jTcNHpU83np4vAjX4QuMaWwgNacDN7Cw5U6ZjcO4Z0VlZL5VDRntYE5srYSDa2QnwgXsCHNo0nnPHyho6tOkbEB87XuC0qQBWjAfigfFMzeaZCYs7ukAAABJQZ7hRRE8I/8AAB8YeupzAwaUQijsJRho9OMq+UdlDbhql3IUc83IcHBwelbvZNb4knMvN7sq1D/UeaRjEfYqtcG8/FeeYRgpIAAAAD0BnwB0R/8AADERfPic9K9YaAABsEGqbb4GsToAtksFM/VhV6WgVpI9GJ2/p4N8zXAztJWS7OLmt4QJSBuNAAAAKgGfAmpH/wAAMlI77s3h/NJ13HDqO0N/ae/RJeIlhQ/RzIgHrjrgaR6W6AAAAHVBmwRJqEFomUwIV//+OEAAAX07D2LQnlYZaruCR2hL/2d1CVeXcYIBnqRsDvzoIxKVpvsYOfaOVnXz5k4Huig/j9q48GIHfXfJCjXVOgFCx8jQcC+VQKMJc+l9DEyvy6GiQ9f8eA1glDtGEIT7ljrGv8E1SoEAAABUQZslSeEKUmUwIV/+OEAAAX2WyrBWFeUEeCdvbLQJaRTA4003aZUBx7SFzAAQ+7TAHr+v7M15JWUKPaI9enSqAY3b4ecQH4276SYwHhvzEYHVunvTAAAAl0GbSEnhDomUwIT//fEAAAMDtEkAMyDuAG6gBeH7gU65tgUzZ5O9iXOPTUnxFO/fgsihkxXjUVWJxH9BSBr9fnRanmYBOO+BalKgC0CG9w+uQ4UnQfZLpz2FIF93U+qzHH9w/F9xTVzfYfNRcuvCDIYLUKL/+sIsZ53VboRkNFUIl76/5l2Q9aq55Wy5KgTUqTHyyC5YwfEAAABQQZ9mRRE8I/8AAB/G+gDWXBVt6AFXzW57ULrhyuvm5U9NOeqVXlaY/7RoUlF/hoCUN9ptIeHBOw1b4WKSefsiVXiHBBqFWC7mdIpua/7ir0EAAABLAZ+Hakf/AAAznTYE2ETr6T5uRQL0a+/veEg38TzSuRp71JtJrpOqwTZbN9weTTTQfXtHZXu5ZJCROcUQVs19PLx+f6qa/1kbK83AAAAAlEGbikmoQWiZTBTx//yEAAAX03ogHz2Lh3bCL7la3lStn2h2Y/7jV3zsteWT8adEoVGtUA/orULE0870HjefPqUIgBWsWE64ukfDDos/j3y7RbyvurYjFtLphVGcr1BdpHwNpfLRcaNzKVvEp3QFczsTB2WF2Wh+gP9zOByBunbCojt96J2kg7Ut1HM646Iz0HOU5sAAAABNAZ+pakf/AAA00iy8/MH0QYDfeyZO+QStyx8EwazNoajsRQwrcTx9SBBCzpoDs39ekh27oLAsB+56OW9c+YjrlzH3LntCtxsgC10TwfEAAAfPbW9vdgAAAGxtdmhkAAAAAAAAAAAAAAAAAAAD6AAACFwAAQAAAQAAAAAAAAAAAAAAAAEAAAAAAAAAAAAAAAAAAAABAAAAAAAAAAAAAAAAAABAAAAAAAAAAAAAAAAAAAAAAAAAAAAAAAAAAAAAAAAAAgAABvl0cmFrAAAAXHRraGQAAAADAAAAAAAAAAAAAAABAAAAAAAACFwAAAAAAAAAAAAAAAAAAAAAAAEAAAAAAAAAAAAAAAAAAAABAAAAAAAAAAAAAAAAAABAAAAAAlgAAAGQAAAAAAAkZWR0cwAAABxlbHN0AAAAAAAAAAEAAAhcAAACAAABAAAAAAZxbWRpYQAAACBtZGhkAAAAAAAAAAAAAAAAAAAyAAAAawBVxAAAAAAALWhkbHIAAAAAAAAAAHZpZGUAAAAAAAAAAAAAAABWaWRlb0hhbmRsZXIAAAAGHG1pbmYAAAAUdm1oZAAAAAEAAAAAAAAAAAAAACRkaW5mAAAAHGRyZWYAAAAAAAAAAQAAAAx1cmwgAAAAAQAABdxzdGJsAAAAmHN0c2QAAAAAAAAAAQAAAIhhdmMxAAAAAAAAAAEAAAAAAAAAAAAAAAAAAAAAAlgBkABIAAAASAAAAAAAAAABAAAAAAAAAAAAAAAAAAAAAAAAAAAAAAAAAAAAAAAAAAAAGP//AAAAMmF2Y0MBZAAf/+EAGWdkAB+s2UCYM+XhAAADAAEAAAMAZA8YMZYBAAZo6+PLIsAAAAAYc3R0cwAAAAAAAAABAAAAawAAAQAAAAAUc3RzcwAAAAAAAAABAAAAAQAAAyBjdHRzAAAAAAAAAGIAAAABAAACAAAAAAEAAAUAAAAAAQAAAgAAAAABAAAAAAAAAAEAAAEAAAAAAQAAAwAAAAABAAABAAAAAAEAAAUAAAAAAQAAAgAAAAABAAAAAAAAAAEAAAEAAAAAAQAABQAAAAABAAACAAAAAAEAAAAAAAAAAQAAAQAAAAABAAAFAAAAAAEAAAIAAAAAAQAAAAAAAAABAAABAAAAAAIAAAIAAAAAAQAABQAAAAABAAACAAAAAAEAAAAAAAAAAQAAAQAAAAABAAAFAAAAAAEAAAIAAAAAAQAAAAAAAAABAAABAAAAAAEAAAUAAAAAAQAAAgAAAAABAAAAAAAAAAEAAAEAAAAAAQAABQAAAAABAAACAAAAAAEAAAAAAAAAAQAAAQAAAAABAAADAAAAAAEAAAEAAAAAAQAABAAAAAACAAABAAAAAAEAAAUAAAAAAQAAAgAAAAABAAAAAAAAAAEAAAEAAAAAAQAAAwAAAAABAAABAAAAAAEAAAMAAAAAAQAAAQAAAAABAAAFAAAAAAEAAAIAAAAAAQAAAAAAAAABAAABAAAAAAEAAAMAAAAAAQAAAQAAAAABAAAFAAAAAAEAAAIAAAAAAQAAAAAAAAABAAABAAAAAAIAAAIAAAAAAQAABQAAAAABAAACAAAAAAEAAAAAAAAAAQAAAQAAAAABAAADAAAAAAEAAAEAAAAAAQAABAAAAAACAAABAAAAAAEAAAMAAAAAAQAAAQAAAAABAAAFAAAAAAEAAAIAAAAAAQAAAAAAAAABAAABAAAAAAEAAAIAAAAAAQAABAAAAAACAAABAAAAAAEAAAMAAAAAAQAAAQAAAAABAAAEAAAAAAIAAAEAAAAAAQAAAwAAAAABAAABAAAAAAEAAAQAAAAAAgAAAQAAAAABAAADAAAAAAEAAAEAAAAAAQAAAwAAAAABAAABAAAAAAEAAAIAAAAAAQAABQAAAAABAAACAAAAAAEAAAAAAAAAAQAAAQAAAAACAAACAAAAAAEAAAQAAAAAAgAAAQAAAAABAAADAAAAAAEAAAEAAAAAHHN0c2MAAAAAAAAAAQAAAAEAAABrAAAAAQAAAcBzdHN6AAAAAAAAAAAAAABrAAAEqgAAAIQAAAA0AAAAKwAAADwAAAC+AAAASwAAAREAAABZAAAAUAAAAEQAAACAAAAATAAAADMAAAAuAAAApwAAAEYAAAA9AAAAOgAAAKEAAACcAAAAXwAAAEwAAAArAAAALgAAAIEAAABNAAAAMQAAAC8AAAB8AAAAQQAAAC8AAAAsAAAAYAAAADUAAAArAAAALAAAAF4AAAA9AAAAggAAADsAAAAyAAAAaQAAACgAAAAyAAAANgAAAJYAAAA9AAAAYAAAAC0AAABXAAAANQAAADIAAAA+AAAASQAAACkAAABoAAAAPQAAACwAAABBAAAAbAAAAHgAAABhAAAARgAAACgAAAAwAAAAbwAAADwAAACgAAAATQAAADcAAABgAAAAPAAAAJEAAAA+AAAAPQAAADAAAABaAAAAawAAACwAAAAvAAAASQAAAEcAAABGAAAAOAAAADIAAABTAAAATgAAAGkAAAAyAAAALwAAAHMAAAA4AAAAXAAAAEEAAABgAAAAbAAAAE0AAABBAAAALgAAAHkAAABYAAAAmwAAAFQAAABPAAAAmAAAAFEAAAAUc3RjbwAAAAAAAAABAAAAMAAAAGJ1ZHRhAAAAWm1ldGEAAAAAAAAAIWhkbHIAAAAAAAAAAG1kaXJhcHBsAAAAAAAAAAAAAAAALWlsc3QAAAAlqXRvbwAAAB1kYXRhAAAAAQAAAABMYXZmNTcuODMuMTAw\" type=\"video/mp4\" />\n",
              "                </video><br><video alt=\"drive/MyDrive/CASAdvancedML/Videos/ffdqn_lunland_5000episodes-episode-4.mp4\" autoplay \n",
              "                    loop controls style=\"height: 400px;\">\n",
              "                    <source src=\"data:video/mp4;base64,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\" type=\"video/mp4\" />\n",
              "                </video><br><video alt=\"drive/MyDrive/CASAdvancedML/Videos/ffdqn_lunland_5000episodes-episode-3.mp4\" autoplay \n",
              "                    loop controls style=\"height: 400px;\">\n",
              "                    <source src=\"data:video/mp4;base64,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\" type=\"video/mp4\" />\n",
              "                </video>"
            ]
          },
          "metadata": {}
        }
      ],
      "source": [
        "show_videos(video_folder, prefix=prefix)"
      ]
    },
    {
      "cell_type": "markdown",
      "metadata": {
        "id": "VWkGOTUKl7ke"
      },
      "source": [
        "## Improve the current agent\n",
        "\n",
        "Pick (at least) one of the following tasks:\n",
        "\n",
        "1.   Look for better hyper-parameters of the algorithm (e.g., learning rate, batch size, epsilon, etc.).\n",
        "2.   Focus on the DQN architecture. For instance, add regularization techniques (e.g., dropout) in the current feed-forward network. Otherwise, you could embed temporal information into the Q network by using the [Frame Stack](https://www.gymlibrary.dev/api/wrappers/#available-wrappers) wrapper for feeding sequential data and [Recurrent](https://pytorch.org/docs/stable/generated/torch.nn.LSTM.html)/[Attention](https://pytorch.org/docs/stable/generated/torch.nn.MultiheadAttention.html) layers for processing them.\n",
        "\n"
      ]
    },
    {
      "cell_type": "code",
      "execution_count": null,
      "metadata": {
        "id": "s_aqGqecoUsO"
      },
      "outputs": [],
      "source": [
        "# TO COMPLETE"
      ]
    },
    {
      "cell_type": "markdown",
      "metadata": {
        "id": "SwzDwrrGprQE"
      },
      "source": [
        "# **2) Implement Deep RL Algorithm on `BipedalWalker-v3`**"
      ]
    },
    {
      "cell_type": "markdown",
      "metadata": {
        "id": "LJwBAzaDqDL5"
      },
      "source": [
        "Further documentation for this environment is available [here](https://www.gymlibrary.dev/environments/box2d/bipedal_walker/).\n",
        "\n",
        "Note: this environment does not provide discrete actions. Therefore, the vanilla DQN algorithm can't be applied without discretizing etc.\n",
        "Implement a policy/actor-critic approach to deal with continous action spaces.\n",
        "\n",
        "Hint: You can modify the previously defined `Agent` class to implement the [Deep Deterministic Policy Gradient](https://arxiv.org/pdf/1509.02971.pdf) (DDPG) algorithm (check in particular Algorithm 1 of the paper). Most of the Deep RL algorthms need replay buffers, so the `ReplayBuffer` class can be directly re-used.\n",
        "Also, many implementations online (e.g., https://spinningup.openai.com/en/latest/_modules/spinup/algos/pytorch/ddpg/ddpg.html)"
      ]
    },
    {
      "cell_type": "markdown",
      "metadata": {
        "id": "RDAwCGVbvyUe"
      },
      "source": [
        "Instantiate `BipedalWalker-v3` environment"
      ]
    },
    {
      "cell_type": "code",
      "execution_count": null,
      "metadata": {
        "id": "_k9GPFFmv7cb"
      },
      "outputs": [],
      "source": [
        "env = gym.make(\n",
        "    \"BipedalWalker-v3\",\n",
        "    new_step_api=True\n",
        ")"
      ]
    },
    {
      "cell_type": "markdown",
      "metadata": {
        "id": "qShYTb4ewYAf"
      },
      "source": [
        "Record and show video"
      ]
    },
    {
      "cell_type": "code",
      "execution_count": null,
      "metadata": {
        "id": "S_SwG3FSwYAg",
        "colab": {
          "base_uri": "https://localhost:8080/",
          "height": 563
        },
        "outputId": "239c09b5-46ce-405b-8597-fe90bfb72015"
      },
      "outputs": [
        {
          "output_type": "stream",
          "name": "stderr",
          "text": [
            "/usr/local/lib/python3.7/dist-packages/gym/wrappers/record_video.py:79: UserWarning: \u001b[33mWARN: Overwriting existing videos at /content/drive/MyDrive/CASAdvancedML/Videos folder (try specifying a different `video_folder` for the `RecordVideo` wrapper if this is not desired)\u001b[0m\n",
            "  f\"Overwriting existing videos at {self.video_folder} folder \"\n",
            "/usr/local/lib/python3.7/dist-packages/gym/wrappers/monitoring/video_recorder.py:79: DeprecationWarning: \u001b[33mWARN: Recording ability for environment BipedalWalker-v3 initialized with `render_mode=None` is marked as deprecated and will be removed in the future.\u001b[0m\n",
            "  f\"Recording ability for environment {env.spec.id} initialized with `render_mode=None` is marked \"\n",
            "/usr/local/lib/python3.7/dist-packages/gym/core.py:44: DeprecationWarning: \u001b[33mWARN: The argument mode in render method is deprecated; use render_mode during environment initialization instead.\n",
            "See here for more information: https://www.gymlibrary.ml/content/api/\u001b[0m\n",
            "  \"The argument mode in render method is deprecated; \"\n"
          ]
        },
        {
          "output_type": "display_data",
          "data": {
            "text/plain": [
              "<IPython.core.display.HTML object>"
            ],
            "text/html": [
              "<video alt=\"drive/MyDrive/CASAdvancedML/Videos/bipwalk_random-episode-0.mp4\" autoplay \n",
              "                    loop controls style=\"height: 400px;\">\n",
              "                    <source src=\"data:video/mp4;base64,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\" type=\"video/mp4\" />\n",
              "                </video>"
            ]
          },
          "metadata": {}
        }
      ],
      "source": [
        "prefix = 'bipwalk_random'\n",
        "\n",
        "record_video_randpol(env,\n",
        "                     video_length=100,\n",
        "                     episode_trigger=None,\n",
        "                     step_trigger=None,\n",
        "                     prefix=prefix,\n",
        "                     video_folder=video_folder)\n",
        "\n",
        "show_videos(video_folder, prefix=prefix)"
      ]
    },
    {
      "cell_type": "markdown",
      "metadata": {
        "id": "WC4CFKgxyEGF"
      },
      "source": [
        "Update `Agent` class and write additional required classes"
      ]
    },
    {
      "cell_type": "code",
      "execution_count": null,
      "metadata": {
        "id": "d0y4tIrTzWIo"
      },
      "outputs": [],
      "source": [
        "# TO COMPLETE"
      ]
    }
  ],
  "metadata": {
    "accelerator": "GPU",
    "colab": {
      "collapsed_sections": [
        "Z1brvbQhdeiC"
      ],
      "provenance": []
    },
    "kernelspec": {
      "display_name": "Python 3",
      "name": "python3"
    },
    "language_info": {
      "name": "python"
    }
  },
  "nbformat": 4,
  "nbformat_minor": 0
}