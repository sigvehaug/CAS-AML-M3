{
  "nbformat": 4,
  "nbformat_minor": 0,
  "metadata": {
    "kernelspec": {
      "display_name": "Python 3",
      "language": "python",
      "name": "python3"
    },
    "language_info": {
      "codemirror_mode": {
        "name": "ipython",
        "version": 3
      },
      "file_extension": ".py",
      "mimetype": "text/x-python",
      "name": "python",
      "nbconvert_exporter": "python",
      "pygments_lexer": "ipython3",
      "version": "3.7.6"
    },
    "colab": {
      "name": "IML_4_MA.ipynb",
      "provenance": [],
      "collapsed_sections": [],
      "include_colab_link": true
    }
  },
  "cells": [
    {
      "cell_type": "markdown",
      "metadata": {
        "id": "view-in-github",
        "colab_type": "text"
      },
      "source": [
        "<a href=\"https://colab.research.google.com/github/sigvehaug/CAS-AML-M3/blob/main/IML_4_MA.ipynb\" target=\"_parent\"><img src=\"https://colab.research.google.com/assets/colab-badge.svg\" alt=\"Open In Colab\"/></a>"
      ]
    },
    {
      "cell_type": "markdown",
      "metadata": {
        "id": "UnOP-6EzHZ9q"
      },
      "source": [
        "Module 3, Deep Learning Research, CAS Advanced Machine Leaerning, 2021-10-04, S. Haug, University of Bern.\n",
        "\n",
        "---"
      ]
    },
    {
      "cell_type": "markdown",
      "metadata": {
        "id": "gpx2r-WAHZ9s"
      },
      "source": [
        "# Interpretable Machine Learning - Model Agnostic Methods\n",
        "\n",
        "**Average expected study time :** 1 hour\n",
        "\n",
        "**Some References**\n",
        "\n",
        "- https://christophm.github.io/interpretable-ml-book\n",
        "- https://towardsdatascience.com/the-mathematics-of-decision-trees-random-forest-and-feature-importance-in-scikit-learn-and-spark-f2861df67e3#:~:text=Feature%20Importance-,Feature%20importance%20is%20calculated%20as%20the%20decrease%20in%20node%20impurity,the%20more%20important%20the%20feature.\n",
        "- https://machinelearningmastery.com/calculate-feature-importance-with-python/\n",
        "\n",
        "**Main python modules used**\n",
        "- sklearn.tree https://scikit-learn.org/stable/modules/classes.html#module-sklearn.tree\n",
        "\n",
        "If you run this notebook on google colab, you will (probably) have no problems with importing the modules.\n",
        "\n",
        "---\n"
      ]
    },
    {
      "cell_type": "markdown",
      "metadata": {
        "id": "ke2MNHSKkTcC"
      },
      "source": [
        "# 6 Model Agnostic Methods\n",
        "\n",
        "Inerpretation (more) independent of the model.\n",
        "- Can use the same interpretation scheme for various models. Good for comparison.\n",
        "\n",
        "Of course we may try to inteprete models by examples (maybe in addition to a more general interpretion). Categorisation of examples:\n",
        "\n",
        "- Prototypes\n",
        "- Adversial\n",
        "- Counterfactual \n",
        "- Influencial \n",
        "\n",
        "and probably more.\n",
        "\n",
        "### 6.1 Some more or less popular methods\n",
        "\n",
        "- Partial Dependence Plots and Individual Conditional Expectations\n",
        "- Permuation Feature Importance\n",
        "- Feature Interactions \n",
        "- Global and Local Surrogate Models\n",
        "- Shapely Values\n",
        "\n",
        "We form 5 random groups on Zoom. Group 1 takes the first method(s), group 2 the second and so on. Each group has one hour to create a small notebook which explains the method and gives and example with a dataset, at best with some Python implementation if it exists already, or by doing it  manually with Python if possible within 60 min, or if not possible, by example. Use https://christophm.github.io/interpretable-ml-book/agnostic.html as a guide line.\n",
        "\n",
        "At 11:30 each group presents their notebook (10 minutes per group). "
      ]
    },
    {
      "cell_type": "markdown",
      "metadata": {
        "id": "MGFvjGW4ODcL"
      },
      "source": [
        "# 8 Summary"
      ]
    },
    {
      "cell_type": "markdown",
      "metadata": {
        "id": "bdMYkCCKQU3l"
      },
      "source": [
        "# Optional Exercise\n",
        "\n",
        "In teams or individually take a neural network model, maybe the one you used in Module 2, and try to interprete it with a global surrogate model (a linear regression, logistic classification or a decision tree).\n"
      ]
    },
    {
      "cell_type": "code",
      "metadata": {
        "id": "ww7mK_OGOG98"
      },
      "source": [
        ""
      ],
      "execution_count": null,
      "outputs": []
    }
  ]
}